{
 "cells": [
  {
   "cell_type": "code",
   "execution_count": null,
   "metadata": {},
   "outputs": [],
   "source": [
    "def calculate_rmse(analysis_state, forecast_state):\n",
    "    \"\"\"\n",
    "    Calculate RMSE between analysis state and forecast state.\n",
    "    Both inputs are assumed to be xarray DataArray or numpy arrays.\n",
    "    \"\"\"\n",
    "    # Ensure the states are aligned by time and space\n",
    "    analysis_data = analysis_state.values\n",
    "    forecast_data = forecast_state.values\n",
    "    \n",
    "    # Compute RMSE\n",
    "    rmse = np.sqrt(np.mean((analysis_data - forecast_data) ** 2))\n",
    "    return rmse\n",
    "\n",
    "# Example usage\n",
    "rmse_value = calculate_rmse(analysis_state, forecast_state)\n",
    "print(f\"RMSE: {rmse_value}\")\n"
   ]
  }
 ],
 "metadata": {
  "language_info": {
   "name": "python"
  }
 },
 "nbformat": 4,
 "nbformat_minor": 2
}
